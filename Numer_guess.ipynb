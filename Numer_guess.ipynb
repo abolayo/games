{
 "cells": [
  {
   "cell_type": "code",
   "execution_count": null,
   "id": "f12e01e4",
   "metadata": {},
   "outputs": [],
   "source": [
    "import random\n",
    "#from repit import clear\n",
    "\n",
    "print(\"Welcome to guess a number game\")\n",
    "print(\"I'am thinking of a number between 1 and 100\")\n",
    "live = 0\n",
    "difficulty = input(\"Choose a difficulty. Type 'easy' or 'hard': \")\n",
    "if difficulty == 'hard':\n",
    "    print(\"You have 5 live-lines!\")\n",
    "    live = 5\n",
    "    number = random.randint(1,50)\n",
    "else:\n",
    "    print(\"You have 10 live-lines!\")\n",
    "    live = 10\n",
    "    number = random.randint(1,100)\n",
    "while live > 0:\n",
    "    guess = int(input(\"Quess a number: \"))\n",
    "    if guess == number:\n",
    "        print(\"You guessed it!\")\n",
    "        break\n",
    "    elif guess < number:\n",
    "        print(\"Too low\")\n",
    "        live -= 1\n",
    "        print(f\"You have {live} lives left\")\n",
    "    else:\n",
    "    print(\"Too high\")\n",
    "    live -= 1\n",
    "    print(f\"You have {live} lives left\")\n",
    "print(f\"The  computer choosed {number} \")"
   ]
  }
 ],
 "metadata": {
  "kernelspec": {
   "display_name": "Python 3 (ipykernel)",
   "language": "python",
   "name": "python3"
  },
  "language_info": {
   "codemirror_mode": {
    "name": "ipython",
    "version": 3
   },
   "file_extension": ".py",
   "mimetype": "text/x-python",
   "name": "python",
   "nbconvert_exporter": "python",
   "pygments_lexer": "ipython3",
   "version": "3.10.9"
  }
 },
 "nbformat": 4,
 "nbformat_minor": 5
}
