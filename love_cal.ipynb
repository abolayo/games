{
 "cells": [
  {
   "cell_type": "markdown",
   "id": "0bc4150e",
   "metadata": {},
   "source": [
    "SIMPLE LOVE CALCULATOR. Check you compatibility by the calculator"
   ]
  },
  {
   "cell_type": "code",
   "execution_count": 6,
   "id": "c0c595d3",
   "metadata": {},
   "outputs": [
    {
     "name": "stdout",
     "output_type": "stream",
     "text": [
      "The Love Calculator is calculating your score...\n"
     ]
    }
   ],
   "source": [
    "print(\"The Love Calculator is calculating your score...\")\n",
    "\n",
    "\n"
   ]
  },
  {
   "cell_type": "code",
   "execution_count": 7,
   "id": "d0bdb935",
   "metadata": {},
   "outputs": [
    {
     "name": "stdout",
     "output_type": "stream",
     "text": [
      "Input your full name.\n",
      "medinat abolayo apanpa\n"
     ]
    }
   ],
   "source": [
    "name1 = input(\"Input your full name.\\n \") # What is your name?"
   ]
  },
  {
   "cell_type": "code",
   "execution_count": 8,
   "id": "fa6bbaab",
   "metadata": {},
   "outputs": [
    {
     "name": "stdout",
     "output_type": "stream",
     "text": [
      "Input your lover's full name.\n",
      " saheed adisa kolade\n"
     ]
    }
   ],
   "source": [
    "name2 = input(\"Input your lover's full name.\\n \") # What is their name?"
   ]
  },
  {
   "cell_type": "code",
   "execution_count": 10,
   "id": "2b8412a8",
   "metadata": {},
   "outputs": [
    {
     "name": "stdout",
     "output_type": "stream",
     "text": [
      "Your score is 95, you go together like coke and mentos.\n",
      "Dr. Love thinks that a relationship between medinat abolayo apanpa and saheed adisa kolade has a very good chance of being successful, but this doesn't mean that you don't have to work on the relationship.\n",
      " Remember that every relationship needs spending time together, talking with each other etc.\n"
     ]
    }
   ],
   "source": [
    "names = name1+name2\n",
    "lower_names = names.lower()\n",
    "count1 = 0\n",
    "count2 = 0\n",
    "word1 = \"true\"\n",
    "word2 = \"love\"\n",
    "for i in word1:\n",
    "  count1+=lower_names.count(i) \n",
    "  num1=str(count1)\n",
    "for i in word2:\n",
    "  count2+=lower_names.count(i)\n",
    "  num2=str(count2)\n",
    "scores = (num2+num1)\n",
    "score = int(scores)\n",
    "if score < 10 or score >90:\n",
    "  print(f\"Your score is {score}, you go together like coke and mentos.\")\n",
    "elif score >=40 and score <=50:\n",
    "  print(f\"Your score is {score}, you are alright together.\")\n",
    "else:\n",
    "  print(f\"Your score is {score}.\")\n",
    "print(f\"Dr. Love thinks that a relationship between {name1} and {name2} has a very good chance of being successful,\\n but this doesn't mean that you don't have to work on the relationship.\\n Remember that every relationship needs spending time together, talking with each other etc.\")"
   ]
  },
  {
   "cell_type": "code",
   "execution_count": null,
   "id": "3758a36f",
   "metadata": {},
   "outputs": [],
   "source": []
  }
 ],
 "metadata": {
  "kernelspec": {
   "display_name": "Python 3 (ipykernel)",
   "language": "python",
   "name": "python3"
  },
  "language_info": {
   "codemirror_mode": {
    "name": "ipython",
    "version": 3
   },
   "file_extension": ".py",
   "mimetype": "text/x-python",
   "name": "python",
   "nbconvert_exporter": "python",
   "pygments_lexer": "ipython3",
   "version": "3.10.9"
  }
 },
 "nbformat": 4,
 "nbformat_minor": 5
}
