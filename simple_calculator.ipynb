{
 "cells": [
  {
   "cell_type": "markdown",
   "id": "4b428910",
   "metadata": {},
   "source": [
    "Simple unintresting calculator "
   ]
  },
  {
   "cell_type": "code",
   "execution_count": 1,
   "id": "0eea8dd7",
   "metadata": {},
   "outputs": [],
   "source": [
    "# import only system from os\n",
    "from os import system, name"
   ]
  },
  {
   "cell_type": "code",
   "execution_count": 2,
   "id": "e47d0303",
   "metadata": {},
   "outputs": [],
   "source": [
    "def clear():\n",
    " \n",
    "    # for windows\n",
    "    if name == 'nt':\n",
    "        _ = system('cls')\n",
    " "
   ]
  },
  {
   "cell_type": "code",
   "execution_count": 4,
   "id": "7b6b1f01",
   "metadata": {},
   "outputs": [
    {
     "name": "stdout",
     "output_type": "stream",
     "text": [
      "What's the first number?: 6\n",
      "+\n",
      "-\n",
      "*\n",
      "/\n",
      "Pick an operation: -\n",
      "What's the next number?: 8\n",
      "6.0 - 8.0 = -2.0\n",
      "Type 'y' to continue calculating with -2.0, or type 'n' to start a new calculation: y\n",
      "Pick an operation: +\n",
      "What's the next number?: 56\n",
      "-2.0 + 56.0 = 54.0\n",
      "Type 'y' to continue calculating with 54.0, or type 'n' to start a new calculation: n\n",
      "logo\n",
      "logo\n"
     ]
    }
   ],
   "source": [
    "\n",
    "def add(n1, n2):\n",
    "    return n1 + n2\n",
    "\n",
    "def subtract(n1, n2):\n",
    "    return n1 - n2\n",
    "\n",
    "def multiply(n1, n2):\n",
    "    return n1 * n2\n",
    "\n",
    "def divide(n1, n2):\n",
    "    return n1 / n2\n",
    "\n",
    "operations = {\n",
    "    \"+\": add,\n",
    "    \"-\": subtract,\n",
    "    \"*\": multiply,\n",
    "    \"/\": divide\n",
    "}\n",
    "\n",
    "def calculator():   \n",
    "num1 = float(input(\"What's the first number?: \"))\n",
    "for symbol in operations:\n",
    "    print(symbol)\n",
    "should_continue = True\n",
    "\n",
    "while should_continue:\n",
    "    operation_symbol = input(\"Pick an operation: \")\n",
    "    num2 = float(input(\"What's the next number?: \"))\n",
    "    calculation_function = operations[operation_symbol]\n",
    "    answer = calculation_function(num1, num2)\n",
    "    print(f\"{num1} {operation_symbol} {num2} = {answer}\")\n",
    "\n",
    "    if input(f\"Type 'y' to continue calculating with {answer}, or type 'n' to start a new calculation: \") == 'y':\n",
    "        num1 = answer\n",
    "    else:\n",
    "        should_continue = False\n",
    "        clear()\n",
    "        calculator()\n",
    "\n",
    "calculator()\n"
   ]
  },
  {
   "cell_type": "code",
   "execution_count": null,
   "id": "7b39f7d0",
   "metadata": {},
   "outputs": [],
   "source": []
  }
 ],
 "metadata": {
  "kernelspec": {
   "display_name": "Python 3 (ipykernel)",
   "language": "python",
   "name": "python3"
  },
  "language_info": {
   "codemirror_mode": {
    "name": "ipython",
    "version": 3
   },
   "file_extension": ".py",
   "mimetype": "text/x-python",
   "name": "python",
   "nbconvert_exporter": "python",
   "pygments_lexer": "ipython3",
   "version": "3.10.9"
  }
 },
 "nbformat": 4,
 "nbformat_minor": 5
}
