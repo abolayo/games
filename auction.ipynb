{
 "cells": [
  {
   "cell_type": "code",
   "execution_count": null,
   "id": "2ea9a0ec",
   "metadata": {},
   "outputs": [],
   "source": [
    "from replit import clear\n",
    "#HINT: You can call clear() to clear the output in the console.\n",
    "import art\n",
    "print(art.logo)\n",
    "bids={}\n",
    "other = True\n",
    "\n",
    "def clear():\n",
    " \n",
    "    # for windows\n",
    "    if name == 'nt':\n",
    "        _ = system('cls')\n",
    " \n",
    "def hightest_bidder(bids):\n",
    "    hightest_bid = 0\n",
    "    winner = \"\"\n",
    "    for bidder in bids:\n",
    "    if bids[bidder] > hightest_bid:\n",
    "        hightest_bid = bids[bidder]\n",
    "        winner = bidder\n",
    "    return winner,hightest_bid\n",
    "while other:\n",
    "    name = input(\"What is your name? \" ).lower()\n",
    "    price = int(input(\"What is your bidding price? $ \"))\n",
    "    bids[name]=price\n",
    "    keep = input(\"Are there any other bidders? Type 'yes' or 'no'. \").lower()\n",
    "    if keep == \"yes\":\n",
    "        clear()\n",
    "        continue\n",
    "    else:\n",
    "        other = False\n",
    "clear()\n",
    "print(f\"Hightest bidder is {hightest_bidder(bids)[0]} with a bid of $ {hightest_bidder(bids)[1]}\")\n"
   ]
  }
 ],
 "metadata": {
  "kernelspec": {
   "display_name": "Python 3 (ipykernel)",
   "language": "python",
   "name": "python3"
  },
  "language_info": {
   "codemirror_mode": {
    "name": "ipython",
    "version": 3
   },
   "file_extension": ".py",
   "mimetype": "text/x-python",
   "name": "python",
   "nbconvert_exporter": "python",
   "pygments_lexer": "ipython3",
   "version": "3.10.9"
  }
 },
 "nbformat": 4,
 "nbformat_minor": 5
}
