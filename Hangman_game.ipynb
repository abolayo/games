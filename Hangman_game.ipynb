{
 "cells": [
  {
   "cell_type": "code",
   "execution_count": 1,
   "id": "e5e02821",
   "metadata": {},
   "outputs": [],
   "source": [
    "import random\n"
   ]
  },
  {
   "cell_type": "code",
   "execution_count": 19,
   "id": "4273b48f",
   "metadata": {},
   "outputs": [],
   "source": [
    "states = [\"Lagos\",\"Bauchi\",\"kano\",\"kaduna\",\"zamfara\"]"
   ]
  },
  {
   "cell_type": "code",
   "execution_count": 23,
   "id": "42380453",
   "metadata": {},
   "outputs": [],
   "source": [
    "guess_word = random.choice(states).lower()\n",
    "lives = len(guess_word)"
   ]
  },
  {
   "cell_type": "code",
   "execution_count": 24,
   "id": "e49fb388",
   "metadata": {},
   "outputs": [],
   "source": [
    "display = []\n",
    "for _ in range(len(guess_word)):\n",
    "    display+=\"_\""
   ]
  },
  {
   "cell_type": "code",
   "execution_count": 25,
   "id": "80832167",
   "metadata": {},
   "outputs": [
    {
     "name": "stdout",
     "output_type": "stream",
     "text": [
      "Guess a letter \n",
      "a\n",
      "['_', 'a', '_', '_', '_', 'a']\n",
      "You have 5 remaining\n",
      "Guess a letter \n",
      "b\n",
      "['_', 'a', '_', '_', '_', 'a']\n",
      "You have 4 remaining\n",
      "Guess a letter \n",
      "z\n",
      "['_', 'a', '_', '_', '_', 'a']\n",
      "You have 3 remaining\n",
      "Guess a letter \n",
      "k\n",
      "['k', 'a', '_', '_', '_', 'a']\n",
      "You have 2 remaining\n",
      "Guess a letter \n",
      "u\n",
      "['k', 'a', '_', 'u', '_', 'a']\n",
      "You have 1 remaining\n",
      "Guess a letter \n",
      "t\n",
      "['k', 'a', '_', 'u', '_', 'a']\n",
      "You have 0 remaining\n",
      "Game over, YOU LOSE!\n"
     ]
    }
   ],
   "source": [
    "end_of_game = False\n",
    "while not end_of_game:\n",
    "    guess = input(\"Guess a letter \\n\")\n",
    "    lives-=1\n",
    "    \n",
    "    for position in range(len(guess_word)):\n",
    "        player_letter = guess_word[position]\n",
    "        if player_letter == guess:\n",
    "            display[position] = player_letter\n",
    "            \n",
    "    print(display)\n",
    "    print(f\"You have {lives} remaining\")\n",
    "    if lives == 0 and \"_\" in display:\n",
    "        end_of_game=True\n",
    "        print(\"Game over, YOU LOSE!\") \n",
    "    if  \"_\"not in display: \n",
    "        end_of_game=True\n",
    "        print(\"Game over, YOU WIN!\")\n",
    "        print(f\"The word is {''.join(display)}\")"
   ]
  },
  {
   "cell_type": "code",
   "execution_count": null,
   "id": "ce54d8eb",
   "metadata": {},
   "outputs": [],
   "source": []
  },
  {
   "cell_type": "code",
   "execution_count": null,
   "id": "0ef9fa90",
   "metadata": {},
   "outputs": [],
   "source": []
  }
 ],
 "metadata": {
  "kernelspec": {
   "display_name": "Python 3 (ipykernel)",
   "language": "python",
   "name": "python3"
  },
  "language_info": {
   "codemirror_mode": {
    "name": "ipython",
    "version": 3
   },
   "file_extension": ".py",
   "mimetype": "text/x-python",
   "name": "python",
   "nbconvert_exporter": "python",
   "pygments_lexer": "ipython3",
   "version": "3.10.9"
  }
 },
 "nbformat": 4,
 "nbformat_minor": 5
}
