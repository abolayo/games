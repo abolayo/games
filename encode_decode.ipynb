{
 "cells": [
  {
   "cell_type": "markdown",
   "id": "734bb151",
   "metadata": {},
   "source": [
    "CAESER CIPER DECODER"
   ]
  },
  {
   "cell_type": "code",
   "execution_count": 7,
   "id": "28ba41aa",
   "metadata": {},
   "outputs": [
    {
     "name": "stdout",
     "output_type": "stream",
     "text": [
      "Type 'encode' to encrypt, type 'decode' to decrypt:\n",
      "encode\n",
      "Type your message:\n",
      "love123\n",
      "Type the shift number:\n",
      "3\n",
      "Here's the encoded result: oryh123\n",
      "Type 'yes' if you want to go again. Otherwise type 'no'.\n",
      "yes\n",
      "Type 'encode' to encrypt, type 'decode' to decrypt:\n",
      "encode\n",
      "Type your message:\n",
      "love123\n",
      "Type the shift number:\n",
      "100\n",
      "Here's the encoded result: hkra123\n",
      "Type 'yes' if you want to go again. Otherwise type 'no'.\n",
      "no\n",
      "Bye!\n",
      "Here's the encoded result: hkra123\n"
     ]
    }
   ],
   "source": [
    "alphabet = ['a', 'b', 'c', 'd', 'e', 'f', 'g', 'h', 'i', 'j', 'k', 'l', 'm', 'n', 'o', 'p', 'q', 'r', 's', 't', 'u', 'v', 'w', 'x', 'y', 'z', 'a', 'b', 'c', 'd', 'e', 'f', 'g', 'h', 'i', 'j', 'k', 'l', 'm', 'n', 'o', 'p', 'q', 'r', 's', 't', 'u', 'v', 'w', 'x', 'y', 'z']\n",
    "\n",
    "def caesar(start_text, shift_amount, cipher_direction):\n",
    "    end_text = \"\"\n",
    "    if cipher_direction == \"decode\":\n",
    "        shift_amount *= -1\n",
    "    for char in start_text:\n",
    "        if char in alphabet:\n",
    "            position = alphabet.index(char)\n",
    "            new_position = position + shift_amount\n",
    "            end_text += alphabet[new_position]\n",
    "        else:\n",
    "            end_text += char      \n",
    "    \n",
    "    print(f\"Here's the {cipher_direction}d result: {end_text}\")\n",
    "\n",
    "play =True\n",
    "while play:\n",
    "    direction = input(\"Type 'encode' to encrypt, type 'decode' to decrypt:\\n\").lower()\n",
    "    text = input(\"Type your message:\\n\").lower()\n",
    "    shift = int(input(\"Type the shift number:\\n\"))%26\n",
    "    caesar(text, shift, direction)\n",
    "    play = input(\"Type 'yes' if you want to go again. Otherwise type 'no'.\\n\").lower()\n",
    "    if play == \"no\":\n",
    "        break\n",
    "print(\"Bye!\")\n",
    "\n",
    "caesar(start_text=text, shift_amount=shift, cipher_direction=direction)"
   ]
  },
  {
   "cell_type": "code",
   "execution_count": null,
   "id": "cf26356a",
   "metadata": {},
   "outputs": [],
   "source": []
  }
 ],
 "metadata": {
  "kernelspec": {
   "display_name": "Python 3 (ipykernel)",
   "language": "python",
   "name": "python3"
  },
  "language_info": {
   "codemirror_mode": {
    "name": "ipython",
    "version": 3
   },
   "file_extension": ".py",
   "mimetype": "text/x-python",
   "name": "python",
   "nbconvert_exporter": "python",
   "pygments_lexer": "ipython3",
   "version": "3.10.9"
  }
 },
 "nbformat": 4,
 "nbformat_minor": 5
}
